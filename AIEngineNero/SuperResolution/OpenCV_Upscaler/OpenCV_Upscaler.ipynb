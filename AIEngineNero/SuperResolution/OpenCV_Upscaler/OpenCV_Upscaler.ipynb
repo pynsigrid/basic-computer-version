{
 "cells": [
  {
   "cell_type": "code",
   "execution_count": 2,
   "metadata": {
    "ExecuteTime": {
     "end_time": "2021-03-09T22:23:52.523304Z",
     "start_time": "2021-03-09T22:23:52.519544Z"
    }
   },
   "outputs": [],
   "source": [
    "import argparse\n",
    "import time\n",
    "import cv2\n",
    "from cv2 import dnn_superres\n",
    "import numpy as np\n",
    "import os\n",
    "# from utils import crop"
   ]
  },
  {
   "cell_type": "code",
   "execution_count": 70,
   "metadata": {
    "ExecuteTime": {
     "end_time": "2021-03-09T23:30:13.679046Z",
     "start_time": "2021-03-09T23:30:13.664479Z"
    }
   },
   "outputs": [],
   "source": [
    "\"\"\"\n",
    "new clip\n",
    "\"\"\"\n",
    "def clip_one_picture(src,cols,rows):\n",
    "    img=cv2.imread(src,1)\n",
    "    sum_rows=img.shape[0]   #height\n",
    "    sum_cols=img.shape[1]   #width\n",
    "    tmp=src.split('super_resolution')[0]+\"super_resolution/{0}_croped/\".format(src.split('/')[-1].split('.')[0])\n",
    "    # TODO: check temp path\n",
    "    if not os.path.exists(tmp):\n",
    "        os.makedirs(tmp)\n",
    "    print(\"裁剪所得{0}列图片，{1}行图片.\".format(int(sum_cols/cols),int(sum_rows/rows)))\n",
    "    num_cols = int(sum_cols/cols)\n",
    "    num_rows = int(sum_rows/rows)\n",
    "\n",
    "    for i in range(num_cols):\n",
    "        for j in range(num_rows):\n",
    "            cv2.imwrite(tmp+'temp_'+str(j)+'_'+str(i)+'.'+src.split('.')[-1], img[j*rows:(j+1)*rows,i*cols:(i+1)*cols,:])\n",
    "    return tmp, num_cols, num_rows\n",
    "\n",
    "\"\"\"\n",
    "输入：图片路径(path+filename)，裁剪获得小图片的列数、行数（也即宽、高）\n",
    "\n",
    "def clip_one_picture(path,filename,cols,rows):\n",
    "    img=cv2.imread(path+filename,-1)##读取彩色图像，图像的透明度(alpha通道)被忽略，默认参数;灰度图像;读取原始图像，包括alpha通道;可以用1，0，-1来表示\n",
    "    sum_rows=img.shape[0]   #高度\n",
    "    sum_cols=img.shape[1]    #宽度\n",
    "    save_path=path+\"/{0}_croped_{1}x{2}/\".format(filename,cols,rows)  #保存的路径\n",
    "    if not os.path.exists(save_path):\n",
    "        os.makedirs(save_path)\n",
    "    print(\"裁剪所得{0}列图片，{1}行图片.\".format(int(sum_cols/cols),int(sum_rows/rows)))\n",
    "    num_cols = int(sum_cols/cols)\n",
    "    num_rows = int(sum_rows/rows)\n",
    "\n",
    "    for i in range(num_cols):\n",
    "        for j in range(num_rows):\n",
    "            cv2.imwrite(save_path+os.path.splitext(filename)[0]+'_'+str(j)+'_'+str(i)+os.path.splitext(filename)[1],img[j*rows:(j+1)*rows,i*cols:(i+1)*cols,:])\n",
    "    # print(\"裁剪完成，得到{0}张图片.\".format(int(sum_cols/cols)*int(sum_rows/rows)))\n",
    "    print(\"裁剪所得图片的存放地址为：{0}\".format(save_path))\n",
    "    return save_path, num_cols, num_rows\n",
    "\"\"\"\n",
    "\n",
    "\"\"\"调用裁剪函数示例\"\"\"\n",
    "# file_path = \"./examples/big/\" \n",
    "# img_path = \"child.png\"\n",
    "\n",
    "# cols=600        #小图片的宽度（列数）\n",
    "# rows=600     #小图片的高度（行数）\n",
    "# clip_one_picture(path=file_path,filename=img_path,cols=cols,rows=rows)\n",
    "\n",
    "\n",
    "\"\"\"\n",
    "\n",
    "输入：图片路径(path+filename)，裁剪所的图片的列的数量、行的数量\n",
    "输出：无\n",
    "\"\"\"\n",
    "\n",
    "def merge_picture(merge_path,num_of_cols,num_of_rows):\n",
    "    filename=file_name(merge_path,\".png\")\n",
    "#     print(merge_path, filename)\n",
    "    shape=cv2.imread(filename[0],-1).shape    #三通道的影像需把-1改成1\n",
    "    cols=shape[1]\n",
    "    rows=shape[0]\n",
    "    channels=shape[2]\n",
    "    dst=np.zeros((rows*num_of_rows,cols*num_of_cols,channels),np.uint8)\n",
    "    for i in range(len(filename)):\n",
    "        img=cv2.imread(filename[i],-1)\n",
    "        cols_th=int(filename[i].split(\"_\")[-1].split('.')[0])\n",
    "        rows_th=int(filename[i].split(\"_\")[-2])\n",
    "        roi=img[0:rows,0:cols,:]\n",
    "        dst[rows_th*rows:(rows_th+1)*rows,cols_th*cols:(cols_th+1)*cols,:]=roi\n",
    "        # TODO: remove temp files\n",
    "    # cv2.imwrite(merge_path+\"merge.png\",dst, [int(cv2.IMWRITE_PNG_COMPRESSION), 0])\n",
    "    return dst\n",
    "\n",
    "\"\"\"遍历文件夹下某格式图片\"\"\"\n",
    "def file_name(root_path,picturetype):\n",
    "    filename=[]\n",
    "    for root,dirs,files in os.walk(root_path):\n",
    "        for file in files:\n",
    "            if os.path.splitext(file)[1]==picturetype:\n",
    "                filename.append(os.path.join(root,file))\n",
    "    return filename\n",
    "\n"
   ]
  },
  {
   "cell_type": "code",
   "execution_count": 71,
   "metadata": {
    "ExecuteTime": {
     "end_time": "2021-03-09T23:30:14.173985Z",
     "start_time": "2021-03-09T23:30:14.163064Z"
    }
   },
   "outputs": [],
   "source": [
    "class opencvsr:\n",
    "    def __init__(self, mpath, scale):\n",
    "        self.model = mpath\n",
    "        self.sr = dnn_superres.DnnSuperResImpl_create()\n",
    "        \n",
    "    def upscale_normal_pic(self, src, dst):\n",
    "        orig = cv2.imread(src, 1)\n",
    "        self.sr.readModel(self.model)\n",
    "        self.sr.setModel(os.path.split(model)[-1].split('_')[0].lower(), self.scale)\n",
    "        upscaled = self.sr.upsample(orig)\n",
    "        cv2.imwrite(dst, upscaled, [int(cv2.IMWRITE_PNG_COMPRESSION), 0])\n",
    "        \n",
    "    def upscale_large_pic(self, src, dst):\n",
    "        orig = cv2.imread(src, 1)\n",
    "        self.sr.readModel(self.model)\n",
    "        self.sr.setModel(os.path.split(model)[-1].split('_')[0].lower(), self.scale)\n",
    "        cpath, num_cols, num_rows = clip_one_picture(src=src,cols=60,rows=60)\n",
    "        for i, filename in enumerate(os.listdir(cpath)):\n",
    "            img_path = cpath + filename\n",
    "            croped = cv2.imread(img_path, 1)\n",
    "            upscaled = self.sr.upsample(croped)\n",
    "            cv2.imwrite(img_path, upscaled, [int(cv2.IMWRITE_PNG_COMPRESSION), 0])\n",
    "\n",
    "        merged = merge_picture(cpath,num_of_cols=num_cols,num_of_rows=num_rows)\n",
    "        cv2.imwrite(dst, merged, [int(cv2.IMWRITE_PNG_COMPRESSION), 0])"
   ]
  },
  {
   "cell_type": "code",
   "execution_count": 72,
   "metadata": {
    "ExecuteTime": {
     "end_time": "2021-03-09T23:30:15.240245Z",
     "start_time": "2021-03-09T23:30:15.044983Z"
    }
   },
   "outputs": [
    {
     "name": "stdout",
     "output_type": "stream",
     "text": [
      "裁剪所得6列图片，4行图片.\n"
     ]
    }
   ],
   "source": [
    "mpath = '/Users/panyining/Desktop/sigrid/Code/basic-computer-version/super_resolution/models/ESPCN_x4.pb'\n",
    "src = '/Users/panyining/Desktop/sigrid/Code/basic-computer-version/super_resolution/examples/examples/zebra.png'\n",
    "dst = '/Users/panyining/Desktop/sigrid/Code/basic-computer-version/super_resolution/examples/output/' + src.split('/')[-1].split('.png')[0]+'.png'\n",
    "a = opencvsr(mpath=mpath, scale=4)\n",
    "a.upscale_large_pic(src=src, dst=dst)"
   ]
  },
  {
   "cell_type": "code",
   "execution_count": null,
   "metadata": {},
   "outputs": [],
   "source": [
    "import argparse\n",
    "import time\n",
    "import cv2\n",
    "from cv2 import dnn_superres\n",
    "import os\n",
    "from utils import crop\n",
    "\n",
    "\n",
    "def super_res_image(img_path, out_path, model_path):\n",
    "    modelName = model_path.split(\"/\")[-1].split(\"_\")[0].lower()\n",
    "    modelScale = model_path.split(\"_x\")[-1]\n",
    "    modelScale = int(modelScale[:modelScale.find(\".\")])\n",
    "    sr = dnn_superres.DnnSuperResImpl_create()\n",
    "    sr.readModel(model_path)\n",
    "    sr.setModel(modelName, modelScale)\n",
    "    _, filename = os.path.split(img_path)\n",
    "    cols=600\n",
    "    rows=600\n",
    "\n",
    "    if os.path.splitext(filename)[-1] not in (\".png\", \".jpg\", \".jpeg\", \".bmp\"):\n",
    "        print(\"can't open file: {filename}\")\n",
    "    else:\n",
    "        orig = cv2.imread(img_path, 1)\n",
    "        if orig.shape[0]*orig.shape[1] <= cols*rows:\n",
    "            upscaled = sr.upsample(orig)\n",
    "            out_filename = filename.split(\".\")[0] + \"_\" + str(modelName) + \"_x\" + str(modelScale) + \".png\"\n",
    "            cv2.imwrite(out_path + \"/\" + str(out_filename), upscaled, [int(cv2.IMWRITE_PNG_COMPRESSION), 0])\n",
    "        else:\n",
    "            # crop, sr then merge\n",
    "            crop_path, num_cols, num_rows = crop.clip_one_picture(path=os.path.split(img_path)[0],filename=os.path.split(img_path)[-1],cols=cols,rows=rows)\n",
    "            for i, filename in enumerate(os.listdir(crop_path)):\n",
    "                img_path = crop_path + filename\n",
    "                croped = cv2.imread(img_path, 1)\n",
    "                upscaled = sr.upsample(croped)\n",
    "                cv2.imwrite(img_path, upscaled, [int(cv2.IMWRITE_PNG_COMPRESSION), 0])\n",
    "                \n",
    "            merge_upscaled = crop.merge_picture(crop_path,sum_cols=modelScale*orig.shape[0],sum_rows=modelScale*orig.shape[1],cols=modelScale*cols,rows=modelScale*rows)\n",
    "            out_filename = filename.split(\".\")[0] + \"_\" + str(modelName) + \"_x\" + str(modelScale) + \".png\"\n",
    "            cv2.imwrite(out_path + \"/\" + str(out_filename), merge_upscaled, [int(cv2.IMWRITE_PNG_COMPRESSION), 0])\n",
    "\n",
    "def super_res(file_path, out_path, model_path):\n",
    "\n",
    "    # modelName = model_path.split(\"/\")[-1].split(\"_\")[0].lower()\n",
    "    # modelScale = model_path.split(\"_x\")[-1]\n",
    "    # modelScale = int(modelScale[:modelScale.find(\".\")])\n",
    "    # sr = dnn_superres.DnnSuperResImpl_create()\n",
    "    # sr.readModel(model_path)\n",
    "    # sr.setModel(modelName, modelScale)\n",
    "\n",
    "    # check output and input(file or dir) path\n",
    "    if not os.path.exists(out_path):\n",
    "        os.makedirs(out_path)\n",
    "    if os.path.isfile(file_path):\n",
    "        super_res_image(img_path=file_path, out_path=out_path, model_path=model_path)\n",
    "    elif os.path.isdir(file_path):\n",
    "        for filename in os.listdir(file_path):\n",
    "            img_path = file_path + \"/\" + filename\n",
    "            super_res_image(img_path=img_path, out_path=out_path, model_path=model_path)\n",
    "    else:\n",
    "        print(f\"cannot read path: {file_path}, please try again.\")\n",
    "\n",
    "    return\n",
    "\n",
    "\n",
    "def main():\n",
    "    model_path = \"./models/FSRCNN_x3.pb\"\n",
    "    file_path = \"./examples/\" \n",
    "    img_path = file_path + \"pexels-any-lane-5727731.png\"\n",
    "    out_path = file_path + \"result\"\n",
    "    super_res(file_path, out_path, model_path)\n",
    "    print(\"success!!!\")\n",
    "\n",
    "\n",
    "if __name__ == \"__main__\":\n",
    "    main()"
   ]
  }
 ],
 "metadata": {
  "kernelspec": {
   "display_name": "Python 3",
   "language": "python",
   "name": "python3"
  },
  "language_info": {
   "codemirror_mode": {
    "name": "ipython",
    "version": 3
   },
   "file_extension": ".py",
   "mimetype": "text/x-python",
   "name": "python",
   "nbconvert_exporter": "python",
   "pygments_lexer": "ipython3",
   "version": "3.8.5"
  },
  "latex_envs": {
   "LaTeX_envs_menu_present": true,
   "autoclose": false,
   "autocomplete": true,
   "bibliofile": "biblio.bib",
   "cite_by": "apalike",
   "current_citInitial": 1,
   "eqLabelWithNumbers": true,
   "eqNumInitial": 1,
   "hotkeys": {
    "equation": "Ctrl-E",
    "itemize": "Ctrl-I"
   },
   "labels_anchors": false,
   "latex_user_defs": false,
   "report_style_numbering": false,
   "user_envs_cfg": false
  },
  "varInspector": {
   "cols": {
    "lenName": 16,
    "lenType": 16,
    "lenVar": 40
   },
   "kernels_config": {
    "python": {
     "delete_cmd_postfix": "",
     "delete_cmd_prefix": "del ",
     "library": "var_list.py",
     "varRefreshCmd": "print(var_dic_list())"
    },
    "r": {
     "delete_cmd_postfix": ") ",
     "delete_cmd_prefix": "rm(",
     "library": "var_list.r",
     "varRefreshCmd": "cat(var_dic_list()) "
    }
   },
   "types_to_exclude": [
    "module",
    "function",
    "builtin_function_or_method",
    "instance",
    "_Feature"
   ],
   "window_display": false
  }
 },
 "nbformat": 4,
 "nbformat_minor": 4
}
