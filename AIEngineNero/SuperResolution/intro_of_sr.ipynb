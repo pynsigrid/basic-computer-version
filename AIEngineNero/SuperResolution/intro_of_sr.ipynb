{
 "cells": [
  {
   "cell_type": "markdown",
   "metadata": {},
   "source": [
    "# 2020-02-24 超分辨率重建\n",
    "## 概述\n",
    "超分辨率重建技术（Super-Resolution）是指从观测到的低分辨率图像重建出相应的高分辨率图像。\n",
    "SR可分为两类:\n",
    "1. 从多张低分辨率图像重建出高分辨率图像\n",
    "2. 从单张低分辨率图像重建出高分辨率图像。\n",
    "\n",
    "基于深度学习的SR，主要是基于单张低分辨率的重建方法，即Single Image Super-Resolution (SISR)\n",
    "\n",
    "## SR based on DL\n",
    "1. EDSR：可实现4倍放大，精度最高， 速度较慢：https://github.com/Saafke/EDSR_Tensorflow\n",
    "2. ESPCN：可实现4倍放大，速度最快， 可实现实时视频处理：https://github.com/fannymonori/TF-ESPCN\n",
    "3. FSRCNN： 可实现3倍放大，速度快， 可实时视频处理：https://github.com/Saafke/FSRCNN_Tensorflow\n",
    "4. LapSRN： 可实现8倍放大：https://github.com/fannymonori/TF-LAPSRN"
   ]
  },
  {
   "cell_type": "markdown",
   "metadata": {},
   "source": [
    "## 批量对文件夹中的图像进行重建\n",
    "crop"
   ]
  },
  {
   "cell_type": "code",
   "execution_count": 1,
   "metadata": {},
   "outputs": [],
   "source": [
    "import argparse\n",
    "import time\n",
    "import cv2\n",
    "from cv2 import dnn_superres\n",
    "import os\n",
    "from utils import crop\n"
   ]
  },
  {
   "cell_type": "code",
   "execution_count": 15,
   "metadata": {},
   "outputs": [],
   "source": [
    "def super_res_image(img_path, out_path, model_path):\n",
    "    modelName = model_path.split(\"/\")[-1].split(\"_\")[0].lower()\n",
    "    modelScale = model_path.split(\"_x\")[-1]\n",
    "    modelScale = int(modelScale[:modelScale.find(\".\")])\n",
    "    sr = dnn_superres.DnnSuperResImpl_create()\n",
    "    sr.readModel(model_path)\n",
    "    sr.setModel(modelName, modelScale)\n",
    "    _, filename = os.path.split(img_path)\n",
    "\n",
    "    if os.path.splitext(filename)[-1] not in (\".png\", \".jpg\", \".jpeg\", \".bmp\"):\n",
    "        print(f\"can't open file: {filename}\")\n",
    "    else:\n",
    "        orig = cv2.imread(img_path, 1)\n",
    "        if orig.shape[0] <= 2400:\n",
    "            \n",
    "            upscaled = sr.upsample(orig)\n",
    "            out_filename = filename.split(\".\")[0] + \"_\" + str(modelName) + \"_x\" + str(modelScale) + \".png\"\n",
    "            cv2.imwrite(out_path + \"/\" + str(out_filename), upscaled, [int(cv2.IMWRITE_PNG_COMPRESSION), 0])\n",
    "        else:\n",
    "            # crop, sr then merge\n",
    "            crop_path, num_cols, num_rows = crop.clip_one_picture(path=os.path.split(img_path)[0]+\"/\",filename=os.path.split(img_path)[-1],cols=1200,rows=1200)\n",
    "            \n",
    "            for i, filename in enumerate(os.listdir(crop_path)):\n",
    "                img_path = crop_path + \"/\" + filename\n",
    "                croped = cv2.imread(img_path, 1)\n",
    "                upscaled = sr.upsample(croped)\n",
    "                cv2.imwrite(img_path, upscaled, [int(cv2.IMWRITE_PNG_COMPRESSION), 0])\n",
    "                \n",
    "            merge_upscaled = crop.merge_picture(crop_path,num_cols,num_rows)\n",
    "            out_filename = filename.split(\".\")[0] + \"_\" + str(modelName) + \"_x\" + str(modelScale) + \".png\"\n",
    "            cv2.imwrite(out_path + \"/\" + str(out_filename), merge_upscaled, [int(cv2.IMWRITE_PNG_COMPRESSION), 0])\n",
    "\n",
    "def super_res(file_path, out_path, model_path):\n",
    "\n",
    "    if os.path.isfile(file_path):\n",
    "        super_res_image(img_path=file_path, out_path=out_path, model_path=model_path)\n",
    "    elif os.path.isdir(file_path):\n",
    "        for filename in os.listdir(file_path):\n",
    "            img_path = file_path + \"/\" + filename\n",
    "            super_res_image(img_path=img_path, out_path=out_path, model_path=model_path)\n",
    "    else:\n",
    "        print(f\"cannot read path: {file_path}, please try again.\")\n",
    "\n",
    "    return\n",
    "\n",
    "\n"
   ]
  },
  {
   "cell_type": "markdown",
   "metadata": {},
   "source": [
    "选用FSRCNN模型，复原home/span/super_resolution/examples/examples/中的图像，保存在./result中"
   ]
  },
  {
   "cell_type": "code",
   "execution_count": 16,
   "metadata": {},
   "outputs": [
    {
     "name": "stdout",
     "output_type": "stream",
     "text": [
      "can't open file: .DS_Store\n",
      "can't open file: result\n",
      "can't open file: child.png_croped_1200x1200\n",
      "裁剪所得3列图片，2行图片.\n",
      "裁剪所得图片的存放地址为：./examples/examples//child.png_croped_1200x1200/\n",
      "./examples/examples//child.png_croped_1200x1200/ ['./examples/examples//child.png_croped_1200x1200/child_0_1.png', './examples/examples//child.png_croped_1200x1200/child_0_0.png', './examples/examples//child.png_croped_1200x1200/child_1_2.png', './examples/examples//child.png_croped_1200x1200/child_1_1.png', './examples/examples//child.png_croped_1200x1200/child_0_2.png', './examples/examples//child.png_croped_1200x1200/child_1_0.png']\n",
      "success!!!\n"
     ]
    }
   ],
   "source": [
    "def main():\n",
    "    model_path = \"./models/FSRCNN_x3.pb\"\n",
    "    file_path = \"./examples/examples/\" \n",
    "    img_path = file_path + \"child.png\"\n",
    "    out_path = file_path + \"result\"\n",
    "    super_res(file_path, out_path, model_path)\n",
    "    print(\"success!!!\")\n",
    "\n",
    "main()"
   ]
  },
  {
   "cell_type": "code",
   "execution_count": 18,
   "metadata": {},
   "outputs": [],
   "source": [
    "!rm -r ./examples/examples/result/"
   ]
  },
  {
   "cell_type": "code",
   "execution_count": 19,
   "metadata": {},
   "outputs": [],
   "source": [
    "! mkdir ./examples/examples/result"
   ]
  },
  {
   "cell_type": "markdown",
   "metadata": {},
   "source": [
    "## 计算评价函数\n",
    "1. ssim：结构化相似度，衡量图片相似度的指标，通过亮度(luminance)、对比度(contrast)和结构(structure)三个方面估计感知结构信息的变化。范围: -1～1\n",
    "2. psnr：峰值信噪比，即峰值信号的能量与噪声的平均能量之比。PSNR指标越高，说明图像质量越好。"
   ]
  },
  {
   "cell_type": "code",
   "execution_count": null,
   "metadata": {},
   "outputs": [],
   "source": [
    "import math\n",
    "import numpy as np\n",
    "# from PIL import Image\n",
    "from scipy.signal import convolve2d\n",
    "\"\"\"\n",
    "PSNR\n",
    "\"\"\"\n",
    "def mse(img1, img2):\n",
    "    mse = np.mean( (img1/255. - img2/255.) ** 2)\n",
    "    return mse\n",
    "\n",
    "def psnr(img1, img2):\n",
    "    mse = np.mean((img1/1.0 - img2/1.0) ** 2 )\n",
    "    if mse < 1.0e-10:\n",
    "        return 100\n",
    "    return 10 * math.log10(255.0**2/mse)\n",
    "\n",
    "\"\"\"\n",
    "SSIM\n",
    "\"\"\"\n",
    "def matlab_style_gauss2D(shape=(3,3),sigma=0.5):\n",
    "#     2D gaussian mask - should give the same result as MATLAB's\n",
    "#     fspecial('gaussian',[shape],[sigma])\n",
    "\n",
    "    m,n = [(ss-1.)/2. for ss in shape]\n",
    "    y,x = np.ogrid[-m:m+1,-n:n+1]\n",
    "    h = np.exp( -(x*x + y*y) / (2.*sigma*sigma) )\n",
    "    h[ h < np.finfo(h.dtype).eps*h.max() ] = 0\n",
    "    sumh = h.sum()\n",
    "    if sumh != 0:\n",
    "        h /= sumh\n",
    "    return h\n",
    " \n",
    "def filter2(x, kernel, mode='same'):\n",
    "    return convolve2d(x, np.rot90(kernel, 2), mode=mode)\n",
    " \n",
    "def compute_ssim(im1, im2, k1=0.01, k2=0.03, win_size=11, L=255):\n",
    "    if not im1.shape == im2.shape:\n",
    "        raise ValueError(\"Input Imagees must have the same dimensions\")\n",
    "    if len(im1.shape) > 2:\n",
    "        raise ValueError(\"Please input the images with 1 channel\")\n",
    "\n",
    "    M, N = im1.shape\n",
    "    C1 = (k1*L)**2\n",
    "    C2 = (k2*L)**2\n",
    "    window = matlab_style_gauss2D(shape=(win_size,win_size), sigma=1.5)\n",
    "    window = window/np.sum(np.sum(window))\n",
    "\n",
    "    if im1.dtype == np.uint8:\n",
    "        im1 = np.double(im1)\n",
    "    if im2.dtype == np.uint8:\n",
    "        im2 = np.double(im2)\n",
    "\n",
    "    mu1 = filter2(im1, window, 'valid')\n",
    "    mu2 = filter2(im2, window, 'valid')\n",
    "    mu1_sq = mu1 * mu1\n",
    "    mu2_sq = mu2 * mu2\n",
    "    mu1_mu2 = mu1 * mu2\n",
    "\n",
    "    sigma1_sq = filter2(im1*im1, window, 'valid') - mu1_sq\n",
    "    sigma2_sq = filter2(im2*im2, window, 'valid') - mu2_sq\n",
    "    sigmal2 = filter2(im1*im2, window, 'valid') - mu1_mu2\n",
    "\n",
    "    ssim_map = ((2*mu1_mu2+C1) * (2*sigmal2+C2)) / ((mu1_sq+mu2_sq+C1) * (sigma1_sq+sigma2_sq+C2))\n",
    "\n",
    "    return np.mean(np.mean(ssim_map))\n",
    "\n"
   ]
  }
 ],
 "metadata": {
  "kernelspec": {
   "display_name": "Python 3",
   "language": "python",
   "name": "python3"
  },
  "language_info": {
   "codemirror_mode": {
    "name": "ipython",
    "version": 3
   },
   "file_extension": ".py",
   "mimetype": "text/x-python",
   "name": "python",
   "nbconvert_exporter": "python",
   "pygments_lexer": "ipython3",
   "version": "3.6.9"
  }
 },
 "nbformat": 4,
 "nbformat_minor": 2
}
